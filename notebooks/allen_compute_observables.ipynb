{
 "cells": [
  {
   "cell_type": "markdown",
   "metadata": {},
   "source": [
    "# Setup"
   ]
  },
  {
   "cell_type": "code",
   "execution_count": 1,
   "metadata": {
    "vscode": {
     "languageId": "python"
    }
   },
   "outputs": [],
   "source": [
    "import numpy as np\n",
    "import matplotlib.pyplot as plt\n",
    "import matplotlib.cm as cm\n",
    "import numpy.matlib\n",
    "import mat73\n",
    "import colorcet as cc\n",
    "import seaborn as sns\n",
    "import os\n",
    "import xarray as xr\n",
    "import pysindy as ps\n",
    "import pandas as pd\n",
    "from pandas import Series, DataFrame\n",
    "# tell pandas to show all columns when we display a DataFrame\n",
    "pd.set_option(\"display.max_columns\", None)\n",
    "\n",
    "from scipy import signal, linalg, stats, io\n",
    "from scipy.ndimage import gaussian_filter1d, median_filter as medfilt\n",
    "from scipy.fftpack import fft, ifft\n",
    "from scipy.interpolate import interp1d\n",
    "from scipy.ndimage import median_filter as medfilt\n",
    "\n",
    "from utils import tic, toc\n",
    "\n",
    "from allensdk.brain_observatory.ecephys.ecephys_project_cache import EcephysProjectCache\n",
    "from allensdk.brain_observatory.ecephys.ecephys_session import EcephysSession, removed_unused_stimulus_presentation_columns\n",
    "from allensdk.brain_observatory.ecephys.visualization import plot_mean_waveforms, plot_spike_counts, raster_plot\n",
    "from allensdk.brain_observatory.visualization import plot_running_speed\n",
    "\n",
    "from ripple_detection import Kay_ripple_detector\n",
    "\n",
    "%matplotlib inline"
   ]
  },
  {
   "cell_type": "code",
   "execution_count": 2,
   "metadata": {},
   "outputs": [],
   "source": [
    "rootdir = '/home/ryanr/Allen'\n",
    "outdir = '/home/ryanr/Allen/arousal_final/Allen'"
   ]
  },
  {
   "cell_type": "markdown",
   "metadata": {},
   "source": [
    "## Define some functions for data processing and computing observables"
   ]
  },
  {
   "cell_type": "code",
   "execution_count": 3,
   "metadata": {
    "vscode": {
     "languageId": "python"
    }
   },
   "outputs": [],
   "source": [
    "## borrowing this logic from https://github.com/psu-mcnl/Neural-Cascade\n",
    "class DataContainer:\n",
    "    def __init__(self):\n",
    "        pass\n",
    "\n",
    "class StimulusSpecificData:\n",
    "    def __init__(self, name):\n",
    "        self.stimName = name\n",
    "        \n",
    "def process_spont(session_data, use_all_neurons=True):\n",
    "    \n",
    "    spont_data = StimulusSpecificData('spontaneous')\n",
    "\n",
    "    \"\"\" spontaneous stimulus info \"\"\"\n",
    "    stimTable = session_data.get_stimulus_table('spontaneous')\n",
    "    spont_data.stimTable = stimTable\n",
    "    spont_data.stimID = stimTable.index[-2]\n",
    "    spont_data.tstart = stimTable['start_time'].values[-2]\n",
    "    spont_data.tstop = stimTable['stop_time'].values[-2]\n",
    "    spont_data.tdur = stimTable['duration'].values[-2]\n",
    "    \n",
    "    \"\"\" process pupil data \"\"\"\n",
    "    pupil = session_data.get_pupil_data()\n",
    "    stim_pupil = pupil[(pupil.index>spont_data.tstart) & (pupil.index<spont_data.tstop)]\n",
    "    stim_pupil.index = stim_pupil.index - spont_data.tstart\n",
    "\n",
    "    pupil_size = stim_pupil.loc[:, ['pupil_height', 'pupil_width']].mean(axis=1).values\n",
    "    pupil_time = stim_pupil.index.values\n",
    "\n",
    "    spont_data.pupil_data = stim_pupil\n",
    "    spont_data.pupil_size = pupil_size\n",
    "    spont_data.pupil_time = pupil_time\n",
    "\n",
    "    \"\"\" process running data \"\"\"\n",
    "    running = session_data.running_speed\n",
    "    stim_running = running[(running['start_time']>spont_data.tstart) & (running['end_time']<spont_data.tstop)]\n",
    "    running_speed = stim_running.velocity.values\n",
    "    running_time = stim_running.iloc[:,0:2].mean(axis=1) - spont_data.tstart\n",
    "    running_speed[running_speed < -90 * running_speed.std()] = 0\n",
    "    spont_data.running_speed = running_speed\n",
    "    spont_data.running_time = running_time.values\n",
    "    \n",
    "    \"\"\" process spike data \"\"\"\n",
    "    unitid = session_data.units.index\n",
    "    tstep = 1.2\n",
    "    spont_data.tbins = np.arange(0,int(spont_data.tdur)+1,tstep)\n",
    "    spont_data.spikect = session_data.presentationwise_spike_counts(spont_data.tbins, spont_data.stimID, unitid).squeeze()\n",
    "    spont_data.rates = signal.resample(spont_data.spikect, len(spont_data.pupil_time))\n",
    "\n",
    "    return spont_data"
   ]
  },
  {
   "cell_type": "code",
   "execution_count": 4,
   "metadata": {
    "vscode": {
     "languageId": "python"
    }
   },
   "outputs": [],
   "source": [
    "def process_lfp(session_data, spont_data):\n",
    "\n",
    "    lfp = DataContainer()\n",
    "\n",
    "    probesid = session_data.probes.index.values\n",
    "    sr = session_data.probes.lfp_sampling_rate.values[0]    \n",
    "\n",
    "    lfp_time = None\n",
    "    t_pad = 0\n",
    "\n",
    "    spont_lfpCA1 = list()\n",
    "    spont_lfpVIS = list()\n",
    "\n",
    "    for pid in probesid:\n",
    "        print('processing lfp data for probe-{:d}'.format(pid))\n",
    "        try:\n",
    "            spont_lfp = session_data.get_lfp(pid).sel(time=slice(spont_data.tstart-t_pad, spont_data.tstop+t_pad))\n",
    "        except ValueError:\n",
    "            print('Probe does not exist')\n",
    "            continue\n",
    "        \n",
    "        spont_lfp = spont_lfp.assign_coords(time = spont_lfp.time - spont_data.tstart)\n",
    "\n",
    "        spont_lfp = spont_lfp.interpolate_na(dim=\"time\",method=\"linear\")\n",
    "        \n",
    "        chnid = spont_lfp.channel.values\n",
    "        try:\n",
    "            chnloc = channels.loc[chnid, 'ecephys_structure_acronym']\n",
    "        except:\n",
    "            print(\"missing channel!\")\n",
    "            continue\n",
    "            \n",
    "        spont_lfp = spont_lfp.drop_sel(channel=chnid[np.where(chnloc.str.match('NaN'))])\n",
    "        chnid = spont_lfp.channel.values\n",
    "        chnloc = channels.loc[chnid, 'ecephys_structure_acronym']\n",
    "        \n",
    "        if lfp_time is not None:\n",
    "            intp = interp1d(spont_lfp.time.values.T, spont_lfp.values.T)\n",
    "            sig_intp = intp(lfp_time.values).T\n",
    "            spont_lfp = xr.DataArray(sig_intp, coords=[lfp_time, spont_lfp.channel])\n",
    "        else:\n",
    "            lfp_time = spont_lfp.time\n",
    "            t_pad = 1\n",
    "        \n",
    "        spont_lfpCA1.append(spont_lfp.sel(channel=chnid[np.where(chnloc.str.match('CA1'))]))\n",
    "        spont_lfpVIS.append(spont_lfp.sel(channel=chnid[np.where(chnloc.str.match('VIS'))]))\n",
    "\n",
    "    spont_lfpCA1 = xr.concat(spont_lfpCA1, dim=\"channel\")\n",
    "    spont_lfpVIS = xr.concat(spont_lfpVIS, dim=\"channel\")\n",
    "\n",
    "    lfp.probesid = probesid\n",
    "    lfp.sr = sr\n",
    "\n",
    "    CA1chn = spont_lfpCA1.channel.values\n",
    "    CA1time = lfp_time.values\n",
    "    lfp.CA1chn = CA1chn\n",
    "    lfp.CA1time = CA1time\n",
    "\n",
    "    lfp.spont_lfpVIS = spont_lfpVIS\n",
    "    lfp.spont_lfpCA1 = spont_lfpCA1\n",
    "    \n",
    "    speed = np.ones_like(lfp.CA1time)\n",
    "    ripple_times = Kay_ripple_detector(lfp.CA1time, spont_lfpCA1.values.copy(), speed, lfp.sr)\n",
    "    \n",
    "    ripples = ripple_times.end_time\n",
    "\n",
    "    # 5 s window\n",
    "    ripple_time = np.linspace(lfp.CA1time[0],lfp.CA1time[-1],int(np.ceil(5*(lfp.CA1time[-1]-lfp.CA1time[0]))))\n",
    "    ripple_rate = np.empty(ripple_time.size)\n",
    "    for i in range(ripple_rate.size-1):\n",
    "        ripple_rate[i] = len(ripples[(ripples>ripple_time[i])&(ripples<ripple_time[i+1])])\n",
    "\n",
    "    lfp.ripple_rate = ripple_rate\n",
    "    lfp.ripple_time = ripple_time\n",
    "    \n",
    "    return lfp"
   ]
  },
  {
   "cell_type": "code",
   "execution_count": 5,
   "metadata": {},
   "outputs": [],
   "source": [
    "def compute_obs(spont_data, lfp, window_time=.5, dt=.1, medfilt=21, normalize=True):\n",
    "\n",
    "    nperseg = int(window_time*lfp.sr/6)\n",
    "    noverlap = int( (1-dt/window_time) * nperseg)\n",
    "\n",
    "    sos = signal.butter(4, 100, btype = 'lowpass', output = 'sos', fs = lfp.sr)\n",
    "\n",
    "    d = lfp.spont_lfpVIS.values\n",
    "    d = signal.sosfiltfilt(sos, d)\n",
    "    d = signal.decimate(d,6,axis=0)\n",
    "\n",
    "    f_spec, t_spec, spec = signal.spectrogram(d, fs=lfp.sr/6, nperseg=nperseg, noverlap=noverlap, axis=0)\n",
    "    #t_spec = t_spec + t[0]\n",
    "\n",
    "    spec = np.nanmean(spec,axis=1)\n",
    "\n",
    "    fmax = 100\n",
    "    f_new = f_spec[f_spec<fmax]\n",
    "    spec_new = spec[f_spec<fmax,:].T # can visualize spec_new with t_spec, f_new as x and y \n",
    "\n",
    "    ## Delta, Alpha, Gamma\n",
    "    delta_mean = np.nansum(spec_new[:,(f_new>.5) & (f_new<4)],axis=1)\n",
    "    alpha_mean = np.nansum(spec_new[:,(f_new>3) & (f_new<6)],axis=1)\n",
    "    gamma_mean = np.nansum(spec_new[:,(f_new>40) & (f_new<100)],axis=1)\n",
    "\n",
    "    if normalize:\n",
    "        delta_mean = delta_mean / np.nansum(spec_new[:,(f_new>.5) & (f_new<100)],axis=1)\n",
    "        alpha_mean = alpha_mean / np.nansum(spec_new[:,(f_new>.5) & (f_new<100)],axis=1) \n",
    "        gamma_mean = gamma_mean / np.nansum(spec_new[:,(f_new>.5) & (f_new<100)],axis=1)\n",
    "    \n",
    "    if medfilt:\n",
    "        delta_mean = signal.medfilt(delta_mean,medfilt)\n",
    "        alpha_mean = signal.medfilt(alpha_mean,medfilt)\n",
    "        gamma_mean = signal.medfilt(gamma_mean,medfilt)\n",
    "\n",
    "    delta_mean = signal.resample(delta_mean,len(spont_data.pupil_size))\n",
    "    alpha_mean = signal.resample(alpha_mean,len(spont_data.pupil_size))\n",
    "    gamma_mean = signal.resample(gamma_mean,len(spont_data.pupil_size))\n",
    "    \n",
    "    ####################\n",
    "    \n",
    "    sos = signal.butter(4, 100, btype = 'lowpass', output = 'sos', fs = lfp.sr)\n",
    "\n",
    "    d = lfp.spont_lfpCA1.values\n",
    "    d = signal.sosfiltfilt(sos, d)\n",
    "    d = signal.decimate(d,6,axis=0)\n",
    "\n",
    "    f_spec, t_spec, spec = signal.spectrogram(d, fs=lfp.sr/6, nperseg=nperseg, noverlap=noverlap, axis=0)\n",
    "    #t_spec = t_spec + t[0]\n",
    "\n",
    "    spec = np.nanmean(spec,axis=1)\n",
    "\n",
    "    fmax = 100\n",
    "    f_new = f_spec[f_spec<fmax]\n",
    "    spec_new = spec[f_spec<fmax,:].T\n",
    "    \n",
    "    ## Hippocampal Delta, Theta\n",
    "    hc_delta_mean = np.nansum(spec_new[:,(f_new>.5) & (f_new<4)],axis=1)\n",
    "    hc_theta_mean = np.nansum(spec_new[:,(f_new>5) & (f_new<9)],axis=1)\n",
    "    \n",
    "    if normalize:\n",
    "        hc_delta_mean = hc_delta_mean / np.nansum(spec_new[:,(f_new>.5) & (f_new<100)],axis=1)\n",
    "        hc_theta_mean = hc_theta_mean / np.nansum(spec_new[:,(f_new>.5) & (f_new<100)],axis=1) \n",
    "    \n",
    "    if medfilt:\n",
    "        hc_delta_mean = signal.medfilt(hc_delta_mean,medfilt)\n",
    "        hc_theta_mean = signal.medfilt(hc_theta_mean,medfilt)\n",
    "\n",
    "    hc_delta_mean = signal.resample(hc_delta_mean,len(spont_data.pupil_size))\n",
    "    hc_theta_mean = signal.resample(hc_theta_mean,len(spont_data.pupil_size))    \n",
    "\n",
    "    ## SWRs\n",
    "    ripple_rate = gaussian_filter1d(lfp.ripple_rate,5)\n",
    "    ripple_rate = signal.resample(ripple_rate, len(spont_data.pupil_size))\n",
    "\n",
    "    ## run_speed\n",
    "    run_speed = signal.resample(np.convolve(spont_data.running_speed,np.ones(1,dtype=int),'same'), len(spont_data.pupil_size))\n",
    "    \n",
    "    ## mean firing rate\n",
    "    mean_rate = np.mean(spont_data.rates,axis=1)\n",
    "\n",
    "    ## store\n",
    "    obs = np.zeros([len(spont_data.pupil_size),8])\n",
    "    x = Series(spont_data.pupil_size).interpolate().values\n",
    "    x = signal.medfilt(x,11)\n",
    "    x = x / np.max(x)\n",
    "    pupil_clean = signal.detrend(x)\n",
    "    obs[:,0] = pupil_clean\n",
    "    obs[:,1] = run_speed\n",
    "    obs[:,2] = hc_theta_mean/hc_delta_mean\n",
    "    obs[:,3] = ripple_rate\n",
    "    obs[:,4] = delta_mean\n",
    "    obs[:,5] = alpha_mean\n",
    "    obs[:,6] = gamma_mean\n",
    "    obs[:,7] = mean_rate\n",
    "        \n",
    "    return obs"
   ]
  },
  {
   "cell_type": "code",
   "execution_count": 6,
   "metadata": {
    "vscode": {
     "languageId": "python"
    }
   },
   "outputs": [
    {
     "name": "stdout",
     "output_type": "stream",
     "text": [
      "[766640955 767871931 768515987 771160300 771990200 774875821 778240327\n",
      " 778998620 779839471 781842082 786091066 787025148 789848216 793224716\n",
      " 794812542 816200189 819186360 819701982 821695405 829720705 831882777\n",
      " 835479236 839068429 839557629 840012044 847657808]\n"
     ]
    }
   ],
   "source": [
    "# Example cache directory path, it determines where downloaded data will be stored\n",
    "manifest_path = os.path.join(\"../../ecephys_cache_dir/\", \"manifest.json\")\n",
    "\n",
    "cache = EcephysProjectCache.from_warehouse(manifest=manifest_path)\n",
    "\n",
    "sessions = cache.get_session_table()\n",
    "channels = cache.get_channels()\n",
    "session_IDs = sessions[sessions['session_type']=='functional_connectivity'].index.values\n",
    "\n",
    "print(session_IDs)\n",
    "\n",
    "bad_session_IDs = []\n",
    "missing_pupil = [768515987,840012044]\n",
    "missing_lfp = [839557629]\n",
    "bad_pupil = [835479236,839068429]\n",
    "bad_session_IDs.extend(missing_pupil)\n",
    "bad_session_IDs.extend(missing_lfp)\n",
    "bad_session_IDs.extend(bad_pupil)\n",
    "\n",
    "mask = ~np.in1d(session_IDs, bad_session_IDs)\n",
    "session_IDs = session_IDs[mask]"
   ]
  },
  {
   "cell_type": "markdown",
   "metadata": {},
   "source": [
    "## Compute and save observables for each session"
   ]
  },
  {
   "cell_type": "code",
   "execution_count": 7,
   "metadata": {},
   "outputs": [
    {
     "name": "stderr",
     "output_type": "stream",
     "text": [
      "/home/ryanr/.local/lib/python3.8/site-packages/hdmf/utils.py:577: FutureWarning: DynamicTable.__init__: Using positional arguments for this method is discouraged and will be deprecated in a future major release. Please use keyword arguments to ensure future compatibility.\n",
      "  warnings.warn(msg, FutureWarning)\n"
     ]
    },
    {
     "name": "stdout",
     "output_type": "stream",
     "text": [
      "Processing session 766640955...\n",
      "Processing spontaneous data\n"
     ]
    },
    {
     "name": "stderr",
     "output_type": "stream",
     "text": [
      "/home/ryanr/.local/lib/python3.8/site-packages/hdmf/utils.py:577: FutureWarning: DynamicTable.__init__: Using positional arguments for this method is discouraged and will be deprecated in a future major release. Please use keyword arguments to ensure future compatibility.\n",
      "  warnings.warn(msg, FutureWarning)\n"
     ]
    },
    {
     "name": "stdout",
     "output_type": "stream",
     "text": [
      "Elapsed time is 38.3498170375824 seconds.\n",
      "Processing LFP\n",
      "processing lfp data for probe-773592315\n",
      "processing lfp data for probe-773592318\n",
      "missing channel!\n",
      "processing lfp data for probe-773592320\n",
      "processing lfp data for probe-773592324\n",
      "processing lfp data for probe-773592328\n",
      "missing channel!\n",
      "processing lfp data for probe-773592330\n",
      "Elapsed time is 241.2029914855957 seconds.\n",
      "Computing observables\n",
      "Elapsed time is 26.154097318649292 seconds.\n",
      "Finished processing session 766640955\n"
     ]
    },
    {
     "name": "stderr",
     "output_type": "stream",
     "text": [
      "/home/ryanr/.local/lib/python3.8/site-packages/hdmf/utils.py:577: FutureWarning: DynamicTable.__init__: Using positional arguments for this method is discouraged and will be deprecated in a future major release. Please use keyword arguments to ensure future compatibility.\n",
      "  warnings.warn(msg, FutureWarning)\n"
     ]
    },
    {
     "name": "stdout",
     "output_type": "stream",
     "text": [
      "Processing session 767871931...\n",
      "Processing spontaneous data\n"
     ]
    },
    {
     "name": "stderr",
     "output_type": "stream",
     "text": [
      "/home/ryanr/.local/lib/python3.8/site-packages/hdmf/utils.py:577: FutureWarning: DynamicTable.__init__: Using positional arguments for this method is discouraged and will be deprecated in a future major release. Please use keyword arguments to ensure future compatibility.\n",
      "  warnings.warn(msg, FutureWarning)\n"
     ]
    },
    {
     "name": "stdout",
     "output_type": "stream",
     "text": [
      "Elapsed time is 38.00693726539612 seconds.\n",
      "Processing LFP\n",
      "processing lfp data for probe-773462985\n",
      "processing lfp data for probe-773462990\n",
      "missing channel!\n",
      "processing lfp data for probe-773462993\n",
      "processing lfp data for probe-773462995\n",
      "processing lfp data for probe-773462997\n",
      "missing channel!\n",
      "processing lfp data for probe-773462999\n",
      "Elapsed time is 272.6226875782013 seconds.\n",
      "Computing observables\n",
      "Elapsed time is 23.143313884735107 seconds.\n",
      "Finished processing session 767871931\n"
     ]
    },
    {
     "name": "stderr",
     "output_type": "stream",
     "text": [
      "/home/ryanr/.local/lib/python3.8/site-packages/hdmf/utils.py:577: FutureWarning: DynamicTable.__init__: Using positional arguments for this method is discouraged and will be deprecated in a future major release. Please use keyword arguments to ensure future compatibility.\n",
      "  warnings.warn(msg, FutureWarning)\n"
     ]
    },
    {
     "name": "stdout",
     "output_type": "stream",
     "text": [
      "Processing session 771160300...\n",
      "Processing spontaneous data\n"
     ]
    },
    {
     "name": "stderr",
     "output_type": "stream",
     "text": [
      "/home/ryanr/.local/lib/python3.8/site-packages/hdmf/utils.py:577: FutureWarning: DynamicTable.__init__: Using positional arguments for this method is discouraged and will be deprecated in a future major release. Please use keyword arguments to ensure future compatibility.\n",
      "  warnings.warn(msg, FutureWarning)\n"
     ]
    },
    {
     "name": "stdout",
     "output_type": "stream",
     "text": [
      "Elapsed time is 39.169517517089844 seconds.\n",
      "Processing LFP\n",
      "processing lfp data for probe-773621937\n",
      "processing lfp data for probe-773621939\n",
      "missing channel!\n",
      "processing lfp data for probe-773621942\n",
      "processing lfp data for probe-773621945\n",
      "processing lfp data for probe-773621948\n",
      "processing lfp data for probe-773621950\n",
      "Elapsed time is 283.3782744407654 seconds.\n",
      "Computing observables\n",
      "Elapsed time is 34.70555377006531 seconds.\n",
      "Finished processing session 771160300\n"
     ]
    },
    {
     "name": "stderr",
     "output_type": "stream",
     "text": [
      "/home/ryanr/.local/lib/python3.8/site-packages/hdmf/utils.py:577: FutureWarning: DynamicTable.__init__: Using positional arguments for this method is discouraged and will be deprecated in a future major release. Please use keyword arguments to ensure future compatibility.\n",
      "  warnings.warn(msg, FutureWarning)\n"
     ]
    },
    {
     "name": "stdout",
     "output_type": "stream",
     "text": [
      "Processing session 771990200...\n",
      "Processing spontaneous data\n"
     ]
    },
    {
     "name": "stderr",
     "output_type": "stream",
     "text": [
      "/home/ryanr/.local/lib/python3.8/site-packages/hdmf/utils.py:577: FutureWarning: DynamicTable.__init__: Using positional arguments for this method is discouraged and will be deprecated in a future major release. Please use keyword arguments to ensure future compatibility.\n",
      "  warnings.warn(msg, FutureWarning)\n"
     ]
    },
    {
     "name": "stdout",
     "output_type": "stream",
     "text": [
      "Elapsed time is 38.10893940925598 seconds.\n",
      "Processing LFP\n",
      "processing lfp data for probe-773654723\n",
      "processing lfp data for probe-773654726\n",
      "missing channel!\n",
      "processing lfp data for probe-773654728\n",
      "processing lfp data for probe-773654730\n",
      "processing lfp data for probe-773654732\n",
      "processing lfp data for probe-773654734\n",
      "missing channel!\n",
      "Elapsed time is 237.62711238861084 seconds.\n",
      "Computing observables\n",
      "Elapsed time is 24.490381717681885 seconds.\n",
      "Finished processing session 771990200\n"
     ]
    },
    {
     "name": "stderr",
     "output_type": "stream",
     "text": [
      "/home/ryanr/.local/lib/python3.8/site-packages/hdmf/utils.py:577: FutureWarning: DynamicTable.__init__: Using positional arguments for this method is discouraged and will be deprecated in a future major release. Please use keyword arguments to ensure future compatibility.\n",
      "  warnings.warn(msg, FutureWarning)\n"
     ]
    },
    {
     "name": "stdout",
     "output_type": "stream",
     "text": [
      "Processing session 774875821...\n",
      "Processing spontaneous data\n"
     ]
    },
    {
     "name": "stderr",
     "output_type": "stream",
     "text": [
      "/home/ryanr/.local/lib/python3.8/site-packages/hdmf/utils.py:577: FutureWarning: DynamicTable.__init__: Using positional arguments for this method is discouraged and will be deprecated in a future major release. Please use keyword arguments to ensure future compatibility.\n",
      "  warnings.warn(msg, FutureWarning)\n"
     ]
    },
    {
     "name": "stdout",
     "output_type": "stream",
     "text": [
      "Elapsed time is 36.946184158325195 seconds.\n",
      "Processing LFP\n",
      "processing lfp data for probe-792602650\n",
      "processing lfp data for probe-792602652\n",
      "missing channel!\n",
      "processing lfp data for probe-792602654\n",
      "processing lfp data for probe-792602656\n",
      "processing lfp data for probe-792602658\n",
      "processing lfp data for probe-792602660\n",
      "Elapsed time is 244.75091409683228 seconds.\n",
      "Computing observables\n",
      "Elapsed time is 32.11322045326233 seconds.\n",
      "Finished processing session 774875821\n"
     ]
    },
    {
     "name": "stderr",
     "output_type": "stream",
     "text": [
      "/home/ryanr/.local/lib/python3.8/site-packages/hdmf/utils.py:577: FutureWarning: DynamicTable.__init__: Using positional arguments for this method is discouraged and will be deprecated in a future major release. Please use keyword arguments to ensure future compatibility.\n",
      "  warnings.warn(msg, FutureWarning)\n"
     ]
    },
    {
     "name": "stdout",
     "output_type": "stream",
     "text": [
      "Processing session 778240327...\n",
      "Processing spontaneous data\n"
     ]
    },
    {
     "name": "stderr",
     "output_type": "stream",
     "text": [
      "/home/ryanr/.local/lib/python3.8/site-packages/hdmf/utils.py:577: FutureWarning: DynamicTable.__init__: Using positional arguments for this method is discouraged and will be deprecated in a future major release. Please use keyword arguments to ensure future compatibility.\n",
      "  warnings.warn(msg, FutureWarning)\n"
     ]
    },
    {
     "name": "stdout",
     "output_type": "stream",
     "text": [
      "Elapsed time is 37.433202028274536 seconds.\n",
      "Processing LFP\n",
      "processing lfp data for probe-792607545\n",
      "processing lfp data for probe-792607547\n",
      "missing channel!\n",
      "processing lfp data for probe-792607549\n",
      "processing lfp data for probe-792607553\n",
      "processing lfp data for probe-792607557\n",
      "processing lfp data for probe-792607559\n",
      "Elapsed time is 279.05446338653564 seconds.\n",
      "Computing observables\n",
      "Elapsed time is 33.753700494766235 seconds.\n",
      "Finished processing session 778240327\n"
     ]
    },
    {
     "name": "stderr",
     "output_type": "stream",
     "text": [
      "/home/ryanr/.local/lib/python3.8/site-packages/hdmf/utils.py:577: FutureWarning: DynamicTable.__init__: Using positional arguments for this method is discouraged and will be deprecated in a future major release. Please use keyword arguments to ensure future compatibility.\n",
      "  warnings.warn(msg, FutureWarning)\n"
     ]
    },
    {
     "name": "stdout",
     "output_type": "stream",
     "text": [
      "Processing session 778998620...\n",
      "Processing spontaneous data\n"
     ]
    },
    {
     "name": "stderr",
     "output_type": "stream",
     "text": [
      "/home/ryanr/.local/lib/python3.8/site-packages/hdmf/utils.py:577: FutureWarning: DynamicTable.__init__: Using positional arguments for this method is discouraged and will be deprecated in a future major release. Please use keyword arguments to ensure future compatibility.\n",
      "  warnings.warn(msg, FutureWarning)\n"
     ]
    },
    {
     "name": "stdout",
     "output_type": "stream",
     "text": [
      "Elapsed time is 36.43026685714722 seconds.\n",
      "Processing LFP\n",
      "processing lfp data for probe-792626841\n",
      "processing lfp data for probe-792626844\n",
      "missing channel!\n",
      "processing lfp data for probe-792626847\n",
      "processing lfp data for probe-792626851\n",
      "processing lfp data for probe-792626853\n",
      "processing lfp data for probe-792626855\n",
      "Elapsed time is 270.939040184021 seconds.\n",
      "Computing observables\n",
      "Elapsed time is 31.37503147125244 seconds.\n",
      "Finished processing session 778998620\n"
     ]
    },
    {
     "name": "stderr",
     "output_type": "stream",
     "text": [
      "/home/ryanr/.local/lib/python3.8/site-packages/hdmf/utils.py:577: FutureWarning: DynamicTable.__init__: Using positional arguments for this method is discouraged and will be deprecated in a future major release. Please use keyword arguments to ensure future compatibility.\n",
      "  warnings.warn(msg, FutureWarning)\n"
     ]
    },
    {
     "name": "stdout",
     "output_type": "stream",
     "text": [
      "Processing session 779839471...\n",
      "Processing spontaneous data\n"
     ]
    },
    {
     "name": "stderr",
     "output_type": "stream",
     "text": [
      "/home/ryanr/.local/lib/python3.8/site-packages/hdmf/utils.py:577: FutureWarning: DynamicTable.__init__: Using positional arguments for this method is discouraged and will be deprecated in a future major release. Please use keyword arguments to ensure future compatibility.\n",
      "  warnings.warn(msg, FutureWarning)\n"
     ]
    },
    {
     "name": "stdout",
     "output_type": "stream",
     "text": [
      "Elapsed time is 37.976489305496216 seconds.\n",
      "Processing LFP\n",
      "processing lfp data for probe-792645490\n",
      "processing lfp data for probe-792645493\n",
      "missing channel!\n",
      "processing lfp data for probe-792645497\n",
      "processing lfp data for probe-792645499\n",
      "processing lfp data for probe-792645501\n",
      "processing lfp data for probe-792645504\n",
      "missing channel!\n",
      "Elapsed time is 240.23381423950195 seconds.\n",
      "Computing observables\n",
      "Elapsed time is 26.1080424785614 seconds.\n",
      "Finished processing session 779839471\n"
     ]
    },
    {
     "name": "stderr",
     "output_type": "stream",
     "text": [
      "/home/ryanr/.local/lib/python3.8/site-packages/hdmf/utils.py:577: FutureWarning: DynamicTable.__init__: Using positional arguments for this method is discouraged and will be deprecated in a future major release. Please use keyword arguments to ensure future compatibility.\n",
      "  warnings.warn(msg, FutureWarning)\n"
     ]
    },
    {
     "name": "stdout",
     "output_type": "stream",
     "text": [
      "Processing session 781842082...\n",
      "Processing spontaneous data\n"
     ]
    },
    {
     "name": "stderr",
     "output_type": "stream",
     "text": [
      "/home/ryanr/.local/lib/python3.8/site-packages/hdmf/utils.py:577: FutureWarning: DynamicTable.__init__: Using positional arguments for this method is discouraged and will be deprecated in a future major release. Please use keyword arguments to ensure future compatibility.\n",
      "  warnings.warn(msg, FutureWarning)\n"
     ]
    },
    {
     "name": "stdout",
     "output_type": "stream",
     "text": [
      "Elapsed time is 38.160754680633545 seconds.\n",
      "Processing LFP\n",
      "processing lfp data for probe-792586876\n",
      "processing lfp data for probe-792586879\n",
      "missing channel!\n",
      "processing lfp data for probe-792586881\n",
      "processing lfp data for probe-792586883\n",
      "processing lfp data for probe-792586887\n",
      "missing channel!\n",
      "processing lfp data for probe-792586891\n",
      "Elapsed time is 240.013676404953 seconds.\n",
      "Computing observables\n",
      "Elapsed time is 22.98030161857605 seconds.\n",
      "Finished processing session 781842082\n"
     ]
    },
    {
     "name": "stderr",
     "output_type": "stream",
     "text": [
      "/home/ryanr/.local/lib/python3.8/site-packages/hdmf/utils.py:577: FutureWarning: DynamicTable.__init__: Using positional arguments for this method is discouraged and will be deprecated in a future major release. Please use keyword arguments to ensure future compatibility.\n",
      "  warnings.warn(msg, FutureWarning)\n"
     ]
    },
    {
     "name": "stdout",
     "output_type": "stream",
     "text": [
      "Processing session 786091066...\n",
      "Processing spontaneous data\n"
     ]
    },
    {
     "name": "stderr",
     "output_type": "stream",
     "text": [
      "/home/ryanr/.local/lib/python3.8/site-packages/hdmf/utils.py:577: FutureWarning: DynamicTable.__init__: Using positional arguments for this method is discouraged and will be deprecated in a future major release. Please use keyword arguments to ensure future compatibility.\n",
      "  warnings.warn(msg, FutureWarning)\n"
     ]
    },
    {
     "name": "stdout",
     "output_type": "stream",
     "text": [
      "Elapsed time is 37.03244876861572 seconds.\n",
      "Processing LFP\n",
      "processing lfp data for probe-792623916\n",
      "processing lfp data for probe-792623919\n",
      "missing channel!\n",
      "processing lfp data for probe-792623921\n",
      "processing lfp data for probe-792623925\n",
      "missing channel!\n",
      "processing lfp data for probe-792623928\n",
      "missing channel!\n",
      "processing lfp data for probe-792623931\n",
      "Elapsed time is 190.40954899787903 seconds.\n",
      "Computing observables\n",
      "Elapsed time is 16.905435800552368 seconds.\n",
      "Finished processing session 786091066\n"
     ]
    },
    {
     "name": "stderr",
     "output_type": "stream",
     "text": [
      "/home/ryanr/.local/lib/python3.8/site-packages/hdmf/utils.py:577: FutureWarning: DynamicTable.__init__: Using positional arguments for this method is discouraged and will be deprecated in a future major release. Please use keyword arguments to ensure future compatibility.\n",
      "  warnings.warn(msg, FutureWarning)\n"
     ]
    },
    {
     "name": "stdout",
     "output_type": "stream",
     "text": [
      "Processing session 787025148...\n",
      "Processing spontaneous data\n"
     ]
    },
    {
     "name": "stderr",
     "output_type": "stream",
     "text": [
      "/home/ryanr/.local/lib/python3.8/site-packages/hdmf/utils.py:577: FutureWarning: DynamicTable.__init__: Using positional arguments for this method is discouraged and will be deprecated in a future major release. Please use keyword arguments to ensure future compatibility.\n",
      "  warnings.warn(msg, FutureWarning)\n"
     ]
    },
    {
     "name": "stdout",
     "output_type": "stream",
     "text": [
      "Elapsed time is 38.34780836105347 seconds.\n",
      "Processing LFP\n",
      "processing lfp data for probe-792586836\n",
      "processing lfp data for probe-792586840\n",
      "missing channel!\n",
      "processing lfp data for probe-792586842\n",
      "processing lfp data for probe-792586845\n",
      "processing lfp data for probe-792586848\n",
      "missing channel!\n",
      "processing lfp data for probe-792586852\n",
      "Elapsed time is 254.43338418006897 seconds.\n",
      "Computing observables\n",
      "Elapsed time is 24.497434616088867 seconds.\n",
      "Finished processing session 787025148\n"
     ]
    },
    {
     "name": "stderr",
     "output_type": "stream",
     "text": [
      "/home/ryanr/.local/lib/python3.8/site-packages/hdmf/utils.py:577: FutureWarning: DynamicTable.__init__: Using positional arguments for this method is discouraged and will be deprecated in a future major release. Please use keyword arguments to ensure future compatibility.\n",
      "  warnings.warn(msg, FutureWarning)\n"
     ]
    },
    {
     "name": "stdout",
     "output_type": "stream",
     "text": [
      "Processing session 789848216...\n",
      "Processing spontaneous data\n"
     ]
    },
    {
     "name": "stderr",
     "output_type": "stream",
     "text": [
      "/home/ryanr/.local/lib/python3.8/site-packages/hdmf/utils.py:577: FutureWarning: DynamicTable.__init__: Using positional arguments for this method is discouraged and will be deprecated in a future major release. Please use keyword arguments to ensure future compatibility.\n",
      "  warnings.warn(msg, FutureWarning)\n"
     ]
    },
    {
     "name": "stdout",
     "output_type": "stream",
     "text": [
      "Elapsed time is 34.77083206176758 seconds.\n",
      "Processing LFP\n",
      "processing lfp data for probe-805002027\n",
      "processing lfp data for probe-805002029\n",
      "missing channel!\n",
      "processing lfp data for probe-805002031\n",
      "processing lfp data for probe-805002033\n",
      "processing lfp data for probe-805002035\n",
      "missing channel!\n",
      "processing lfp data for probe-805002037\n",
      "Elapsed time is 251.71582126617432 seconds.\n",
      "Computing observables\n",
      "Elapsed time is 27.331371784210205 seconds.\n",
      "Finished processing session 789848216\n"
     ]
    },
    {
     "name": "stderr",
     "output_type": "stream",
     "text": [
      "/home/ryanr/.local/lib/python3.8/site-packages/hdmf/utils.py:577: FutureWarning: DynamicTable.__init__: Using positional arguments for this method is discouraged and will be deprecated in a future major release. Please use keyword arguments to ensure future compatibility.\n",
      "  warnings.warn(msg, FutureWarning)\n"
     ]
    },
    {
     "name": "stdout",
     "output_type": "stream",
     "text": [
      "Processing session 793224716...\n",
      "Processing spontaneous data\n"
     ]
    },
    {
     "name": "stderr",
     "output_type": "stream",
     "text": [
      "/home/ryanr/.local/lib/python3.8/site-packages/hdmf/utils.py:577: FutureWarning: DynamicTable.__init__: Using positional arguments for this method is discouraged and will be deprecated in a future major release. Please use keyword arguments to ensure future compatibility.\n",
      "  warnings.warn(msg, FutureWarning)\n"
     ]
    },
    {
     "name": "stdout",
     "output_type": "stream",
     "text": [
      "Elapsed time is 87.29489398002625 seconds.\n",
      "Processing LFP\n",
      "processing lfp data for probe-805124802\n",
      "processing lfp data for probe-805124804\n",
      "missing channel!\n",
      "processing lfp data for probe-805124806\n",
      "processing lfp data for probe-805124809\n",
      "processing lfp data for probe-805124812\n",
      "missing channel!\n",
      "processing lfp data for probe-805124815\n",
      "Elapsed time is 235.0215277671814 seconds.\n",
      "Computing observables\n",
      "Elapsed time is 21.48611617088318 seconds.\n",
      "Finished processing session 793224716\n"
     ]
    },
    {
     "name": "stderr",
     "output_type": "stream",
     "text": [
      "/home/ryanr/.local/lib/python3.8/site-packages/hdmf/utils.py:577: FutureWarning: DynamicTable.__init__: Using positional arguments for this method is discouraged and will be deprecated in a future major release. Please use keyword arguments to ensure future compatibility.\n",
      "  warnings.warn(msg, FutureWarning)\n"
     ]
    },
    {
     "name": "stdout",
     "output_type": "stream",
     "text": [
      "Processing session 794812542...\n",
      "Processing spontaneous data\n"
     ]
    },
    {
     "name": "stderr",
     "output_type": "stream",
     "text": [
      "/home/ryanr/.local/lib/python3.8/site-packages/hdmf/utils.py:577: FutureWarning: DynamicTable.__init__: Using positional arguments for this method is discouraged and will be deprecated in a future major release. Please use keyword arguments to ensure future compatibility.\n",
      "  warnings.warn(msg, FutureWarning)\n"
     ]
    },
    {
     "name": "stdout",
     "output_type": "stream",
     "text": [
      "Elapsed time is 38.31858706474304 seconds.\n",
      "Processing LFP\n",
      "processing lfp data for probe-810758777\n",
      "processing lfp data for probe-810758779\n",
      "missing channel!\n",
      "processing lfp data for probe-810758781\n",
      "processing lfp data for probe-810758783\n",
      "processing lfp data for probe-810758785\n",
      "processing lfp data for probe-810758787\n",
      "missing channel!\n",
      "Elapsed time is 239.77529644966125 seconds.\n",
      "Computing observables\n",
      "Elapsed time is 24.142852544784546 seconds.\n",
      "Finished processing session 794812542\n"
     ]
    },
    {
     "name": "stderr",
     "output_type": "stream",
     "text": [
      "/home/ryanr/.local/lib/python3.8/site-packages/hdmf/utils.py:577: FutureWarning: DynamicTable.__init__: Using positional arguments for this method is discouraged and will be deprecated in a future major release. Please use keyword arguments to ensure future compatibility.\n",
      "  warnings.warn(msg, FutureWarning)\n"
     ]
    },
    {
     "name": "stdout",
     "output_type": "stream",
     "text": [
      "Processing session 816200189...\n",
      "Processing spontaneous data\n"
     ]
    },
    {
     "name": "stderr",
     "output_type": "stream",
     "text": [
      "/home/ryanr/.local/lib/python3.8/site-packages/hdmf/utils.py:577: FutureWarning: DynamicTable.__init__: Using positional arguments for this method is discouraged and will be deprecated in a future major release. Please use keyword arguments to ensure future compatibility.\n",
      "  warnings.warn(msg, FutureWarning)\n"
     ]
    },
    {
     "name": "stdout",
     "output_type": "stream",
     "text": [
      "Elapsed time is 35.55977201461792 seconds.\n",
      "Processing LFP\n",
      "processing lfp data for probe-836943713\n",
      "processing lfp data for probe-836943715\n",
      "processing lfp data for probe-836943717\n",
      "processing lfp data for probe-836943719\n",
      "missing channel!\n",
      "processing lfp data for probe-836943721\n",
      "Elapsed time is 229.5054738521576 seconds.\n",
      "Computing observables\n",
      "Elapsed time is 22.725754022598267 seconds.\n",
      "Finished processing session 816200189\n"
     ]
    },
    {
     "name": "stderr",
     "output_type": "stream",
     "text": [
      "/home/ryanr/.local/lib/python3.8/site-packages/hdmf/utils.py:577: FutureWarning: DynamicTable.__init__: Using positional arguments for this method is discouraged and will be deprecated in a future major release. Please use keyword arguments to ensure future compatibility.\n",
      "  warnings.warn(msg, FutureWarning)\n"
     ]
    },
    {
     "name": "stdout",
     "output_type": "stream",
     "text": [
      "Processing session 819186360...\n",
      "Processing spontaneous data\n"
     ]
    },
    {
     "name": "stderr",
     "output_type": "stream",
     "text": [
      "/home/ryanr/.local/lib/python3.8/site-packages/hdmf/utils.py:577: FutureWarning: DynamicTable.__init__: Using positional arguments for this method is discouraged and will be deprecated in a future major release. Please use keyword arguments to ensure future compatibility.\n",
      "  warnings.warn(msg, FutureWarning)\n"
     ]
    },
    {
     "name": "stdout",
     "output_type": "stream",
     "text": [
      "Elapsed time is 35.73403716087341 seconds.\n",
      "Processing LFP\n",
      "processing lfp data for probe-820311754\n",
      "missing channel!\n",
      "processing lfp data for probe-820311756\n",
      "missing channel!\n",
      "processing lfp data for probe-820311760\n",
      "missing channel!\n",
      "processing lfp data for probe-820311762\n",
      "processing lfp data for probe-820311764\n",
      "Elapsed time is 178.778240442276 seconds.\n",
      "Computing observables\n",
      "Elapsed time is 14.874998092651367 seconds.\n",
      "Finished processing session 819186360\n"
     ]
    },
    {
     "name": "stderr",
     "output_type": "stream",
     "text": [
      "/home/ryanr/.local/lib/python3.8/site-packages/hdmf/utils.py:577: FutureWarning: DynamicTable.__init__: Using positional arguments for this method is discouraged and will be deprecated in a future major release. Please use keyword arguments to ensure future compatibility.\n",
      "  warnings.warn(msg, FutureWarning)\n"
     ]
    },
    {
     "name": "stdout",
     "output_type": "stream",
     "text": [
      "Processing session 819701982...\n",
      "Processing spontaneous data\n"
     ]
    },
    {
     "name": "stderr",
     "output_type": "stream",
     "text": [
      "/home/ryanr/.local/lib/python3.8/site-packages/hdmf/utils.py:577: FutureWarning: DynamicTable.__init__: Using positional arguments for this method is discouraged and will be deprecated in a future major release. Please use keyword arguments to ensure future compatibility.\n",
      "  warnings.warn(msg, FutureWarning)\n"
     ]
    },
    {
     "name": "stdout",
     "output_type": "stream",
     "text": [
      "Elapsed time is 35.644033432006836 seconds.\n",
      "Processing LFP\n",
      "processing lfp data for probe-836962814\n",
      "processing lfp data for probe-836962816\n",
      "processing lfp data for probe-836962820\n",
      "missing channel!\n",
      "processing lfp data for probe-836962822\n",
      "processing lfp data for probe-836962824\n",
      "Elapsed time is 217.6158266067505 seconds.\n",
      "Computing observables\n",
      "Elapsed time is 24.45896053314209 seconds.\n",
      "Finished processing session 819701982\n"
     ]
    },
    {
     "name": "stderr",
     "output_type": "stream",
     "text": [
      "/home/ryanr/.local/lib/python3.8/site-packages/hdmf/utils.py:577: FutureWarning: DynamicTable.__init__: Using positional arguments for this method is discouraged and will be deprecated in a future major release. Please use keyword arguments to ensure future compatibility.\n",
      "  warnings.warn(msg, FutureWarning)\n"
     ]
    },
    {
     "name": "stdout",
     "output_type": "stream",
     "text": [
      "Processing session 821695405...\n",
      "Processing spontaneous data\n"
     ]
    },
    {
     "name": "stderr",
     "output_type": "stream",
     "text": [
      "/home/ryanr/.local/lib/python3.8/site-packages/hdmf/utils.py:577: FutureWarning: DynamicTable.__init__: Using positional arguments for this method is discouraged and will be deprecated in a future major release. Please use keyword arguments to ensure future compatibility.\n",
      "  warnings.warn(msg, FutureWarning)\n"
     ]
    },
    {
     "name": "stdout",
     "output_type": "stream",
     "text": [
      "Elapsed time is 36.015763998031616 seconds.\n",
      "Processing LFP\n",
      "processing lfp data for probe-822645893\n",
      "processing lfp data for probe-822645895\n",
      "processing lfp data for probe-822645897\n",
      "missing channel!\n",
      "processing lfp data for probe-822645899\n",
      "missing channel!\n",
      "processing lfp data for probe-822645901\n",
      "Elapsed time is 180.5277750492096 seconds.\n",
      "Computing observables\n",
      "Elapsed time is 17.314308643341064 seconds.\n",
      "Finished processing session 821695405\n"
     ]
    },
    {
     "name": "stderr",
     "output_type": "stream",
     "text": [
      "/home/ryanr/.local/lib/python3.8/site-packages/hdmf/utils.py:577: FutureWarning: DynamicTable.__init__: Using positional arguments for this method is discouraged and will be deprecated in a future major release. Please use keyword arguments to ensure future compatibility.\n",
      "  warnings.warn(msg, FutureWarning)\n"
     ]
    },
    {
     "name": "stdout",
     "output_type": "stream",
     "text": [
      "Processing session 829720705...\n",
      "Processing spontaneous data\n"
     ]
    },
    {
     "name": "stderr",
     "output_type": "stream",
     "text": [
      "/home/ryanr/.local/lib/python3.8/site-packages/hdmf/utils.py:577: FutureWarning: DynamicTable.__init__: Using positional arguments for this method is discouraged and will be deprecated in a future major release. Please use keyword arguments to ensure future compatibility.\n",
      "  warnings.warn(msg, FutureWarning)\n"
     ]
    },
    {
     "name": "stdout",
     "output_type": "stream",
     "text": [
      "Elapsed time is 35.505472898483276 seconds.\n",
      "Processing LFP\n",
      "processing lfp data for probe-832129149\n",
      "missing channel!\n",
      "processing lfp data for probe-832129154\n",
      "processing lfp data for probe-832129157\n",
      "missing channel!\n",
      "processing lfp data for probe-832129159\n",
      "processing lfp data for probe-832129161\n",
      "Elapsed time is 174.6418857574463 seconds.\n",
      "Computing observables\n",
      "Elapsed time is 17.96936321258545 seconds.\n",
      "Finished processing session 829720705\n"
     ]
    },
    {
     "name": "stderr",
     "output_type": "stream",
     "text": [
      "/home/ryanr/.local/lib/python3.8/site-packages/hdmf/utils.py:577: FutureWarning: DynamicTable.__init__: Using positional arguments for this method is discouraged and will be deprecated in a future major release. Please use keyword arguments to ensure future compatibility.\n",
      "  warnings.warn(msg, FutureWarning)\n"
     ]
    },
    {
     "name": "stdout",
     "output_type": "stream",
     "text": [
      "Processing session 831882777...\n",
      "Processing spontaneous data\n"
     ]
    },
    {
     "name": "stderr",
     "output_type": "stream",
     "text": [
      "/home/ryanr/.local/lib/python3.8/site-packages/hdmf/utils.py:577: FutureWarning: DynamicTable.__init__: Using positional arguments for this method is discouraged and will be deprecated in a future major release. Please use keyword arguments to ensure future compatibility.\n",
      "  warnings.warn(msg, FutureWarning)\n"
     ]
    },
    {
     "name": "stdout",
     "output_type": "stream",
     "text": [
      "Elapsed time is 36.42828631401062 seconds.\n",
      "Processing LFP\n",
      "processing lfp data for probe-832810573\n",
      "processing lfp data for probe-832810576\n",
      "processing lfp data for probe-832810578\n",
      "processing lfp data for probe-832810580\n",
      "missing channel!\n",
      "processing lfp data for probe-832810582\n",
      "processing lfp data for probe-832810584\n",
      "Probe does not exist\n",
      "Elapsed time is 194.2458622455597 seconds.\n",
      "Computing observables\n",
      "Elapsed time is 20.665181636810303 seconds.\n",
      "Finished processing session 831882777\n"
     ]
    },
    {
     "name": "stderr",
     "output_type": "stream",
     "text": [
      "/home/ryanr/.local/lib/python3.8/site-packages/hdmf/utils.py:577: FutureWarning: DynamicTable.__init__: Using positional arguments for this method is discouraged and will be deprecated in a future major release. Please use keyword arguments to ensure future compatibility.\n",
      "  warnings.warn(msg, FutureWarning)\n"
     ]
    },
    {
     "name": "stdout",
     "output_type": "stream",
     "text": [
      "Processing session 847657808...\n",
      "Processing spontaneous data\n"
     ]
    },
    {
     "name": "stderr",
     "output_type": "stream",
     "text": [
      "/home/ryanr/.local/lib/python3.8/site-packages/hdmf/utils.py:577: FutureWarning: DynamicTable.__init__: Using positional arguments for this method is discouraged and will be deprecated in a future major release. Please use keyword arguments to ensure future compatibility.\n",
      "  warnings.warn(msg, FutureWarning)\n"
     ]
    },
    {
     "name": "stdout",
     "output_type": "stream",
     "text": [
      "Elapsed time is 40.504844188690186 seconds.\n",
      "Processing LFP\n",
      "processing lfp data for probe-848037568\n",
      "processing lfp data for probe-848037570\n",
      "processing lfp data for probe-848037572\n",
      "processing lfp data for probe-848037574\n",
      "processing lfp data for probe-848037576\n",
      "processing lfp data for probe-848037578\n",
      "Elapsed time is 272.6856269836426 seconds.\n",
      "Computing observables\n",
      "Elapsed time is 32.66610622406006 seconds.\n",
      "Finished processing session 847657808\n"
     ]
    }
   ],
   "source": [
    "for session_id in session_IDs:\n",
    "\n",
    "    session = cache.get_session_data(session_id)  \n",
    "    \n",
    "    print('Processing session ' + str(session_id) + '...')\n",
    "\n",
    "    print('Processing spontaneous data')\n",
    "    tic()\n",
    "    spont_data = process_spont(session)\n",
    "    toc()\n",
    "    \n",
    "    print('Processing LFP')\n",
    "    tic()\n",
    "    lfp = process_lfp(session,spont_data)\n",
    "    toc()\n",
    "    \n",
    "    print('Computing observables')\n",
    "    tic()\n",
    "    obs = compute_obs(spont_data, lfp, window_time=.5, dt=.1, medfilt=0)\n",
    "    np.save(rootdir + '/ecephys_cache_dir/' + str(session_id) + '_obs_spectrogram_wt0p5_dt0p1_medfilt0', obs)\n",
    "    toc()\n",
    "    \n",
    "    print('Finished processing session ' + str(session_id))"
   ]
  },
  {
   "cell_type": "markdown",
   "metadata": {},
   "source": [
    "### Let's quickly visualize some observables from one mouse"
   ]
  },
  {
   "cell_type": "code",
   "execution_count": 8,
   "metadata": {},
   "outputs": [
    {
     "data": {
      "image/png": "[encoded data removed]",
      "text/plain": [
       "<Figure size 640x480 with 1 Axes>"
      ]
     },
     "metadata": {},
     "output_type": "display_data"
    }
   ],
   "source": [
    "obs = np.load(rootdir + '/ecephys_cache_dir/' + str(session_id) + '_obs_spectrogram_wt0p5_dt0p1_medfilt21.npy')\n",
    "\n",
    "plt.figure()\n",
    "\n",
    "plt.plot(stats.zscore(obs[:,0])) # pupil\n",
    "plt.plot(6+stats.zscore(obs[:,4])) # delta BLP\n",
    "plt.plot(12+stats.zscore(obs[:,5])) # alpha BLP\n",
    "    \n",
    "plt.show()"
   ]
  }
 ],
 "metadata": {
  "kernelspec": {
   "display_name": "Python 3 (ipykernel)",
   "language": "python",
   "name": "python3"
  },
  "language_info": {
   "codemirror_mode": {
    "name": "ipython",
    "version": 3
   },
   "file_extension": ".py",
   "mimetype": "text/x-python",
   "name": "python",
   "nbconvert_exporter": "python",
   "pygments_lexer": "ipython3",
   "version": "3.8.10"
  },
  "vscode": {
   "interpreter": {
    "hash": "e7370f93d1d0cde622a1f8e1c04877d8463912d04d973331ad4851f04de6915a"
   }
  }
 },
 "nbformat": 4,
 "nbformat_minor": 2
}
