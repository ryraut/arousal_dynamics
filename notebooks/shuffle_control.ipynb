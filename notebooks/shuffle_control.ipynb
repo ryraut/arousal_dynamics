{
 "cells": [
  {
   "cell_type": "markdown",
   "id": "983ac300",
   "metadata": {},
   "source": [
    "## Setup"
   ]
  },
  {
   "cell_type": "code",
   "execution_count": 1,
   "id": "1e1e579c",
   "metadata": {},
   "outputs": [
    {
     "name": "stderr",
     "output_type": "stream",
     "text": [
      "2025-01-05 16:47:49.102472: I tensorflow/core/platform/cpu_feature_guard.cc:193] This TensorFlow binary is optimized with oneAPI Deep Neural Network Library (oneDNN) to use the following CPU instructions in performance-critical operations:  AVX2 AVX512F FMA\n",
      "To enable them in other operations, rebuild TensorFlow with the appropriate compiler flags.\n",
      "2025-01-05 16:47:49.231092: E tensorflow/stream_executor/cuda/cuda_blas.cc:2981] Unable to register cuBLAS factory: Attempting to register factory for plugin cuBLAS when one has already been registered\n",
      "2025-01-05 16:47:49.737157: W tensorflow/stream_executor/platform/default/dso_loader.cc:64] Could not load dynamic library 'libnvinfer.so.7'; dlerror: libnvinfer.so.7: cannot open shared object file: No such file or directory\n",
      "2025-01-05 16:47:49.737215: W tensorflow/stream_executor/platform/default/dso_loader.cc:64] Could not load dynamic library 'libnvinfer_plugin.so.7'; dlerror: libnvinfer_plugin.so.7: cannot open shared object file: No such file or directory\n",
      "2025-01-05 16:47:49.737221: W tensorflow/compiler/tf2tensorrt/utils/py_utils.cc:38] TF-TRT Warning: Cannot dlopen some TensorRT libraries. If you would like to use Nvidia GPU with TensorRT, please make sure the missing libraries mentioned above are installed properly.\n"
     ]
    }
   ],
   "source": [
    "import numpy as np\n",
    "import matplotlib.pyplot as plt\n",
    "import matplotlib.cm as cm\n",
    "import tensorflow as tf\n",
    "import keras\n",
    "import numpy.matlib\n",
    "import mat73\n",
    "import colorcet as cc\n",
    "\n",
    "from numpy import asarray\n",
    "from scipy import stats, signal, io\n",
    "from scipy.ndimage import median_filter as medfilt\n",
    "\n",
    "from sklearn.preprocessing import StandardScaler\n",
    "from sklearn.metrics import r2_score\n",
    "from sklearn.utils.extmath import randomized_svd as rsvd\n",
    "\n",
    "from utils import tic, toc, hankel_matrix, scaler, legendre_polys, find_opt_lag, generate_color_gradient\n",
    "from models import linear_regression, VAE\n",
    "\n",
    "%matplotlib inline"
   ]
  },
  {
   "cell_type": "code",
   "execution_count": 2,
   "id": "b4ec5e38",
   "metadata": {},
   "outputs": [],
   "source": [
    "font = {'family' : 'arial',\n",
    "        'size'   : 16}\n",
    "plt.rc('font', **font)"
   ]
  },
  {
   "cell_type": "code",
   "execution_count": 3,
   "id": "473b6382",
   "metadata": {},
   "outputs": [],
   "source": [
    "def plot_allen(ax):\n",
    "    allen_ccf = mat73.loadmat(data_dir + '/allen_ccf_overlay.mat')['allen_ccf']\n",
    "    for i in range(len(allen_ccf)):\n",
    "        temp1 = allen_ccf[i]\n",
    "        ax.plot(temp1[:,0],temp1[:,1],'w',lw=.5)"
   ]
  },
  {
   "cell_type": "markdown",
   "id": "fd1a4fa8",
   "metadata": {},
   "source": [
    "## Load and preprocess data"
   ]
  },
  {
   "cell_type": "code",
   "execution_count": 4,
   "id": "fc6c4430",
   "metadata": {},
   "outputs": [],
   "source": [
    "def load_pupil(subj,filt=True):\n",
    "    data_dict = mat73.loadmat(data_dir + '/' + str(subj) + '_pupil.mat')\n",
    "    pupil = data_dict['pupil'].reshape(-1,1)\n",
    "    pupil = medfilt(pupil,21)\n",
    "    \n",
    "    if filt:\n",
    "        Fs = 20\n",
    "        dt = 1/Fs\n",
    "        sos = signal.butter(1, [.01,.2],btype = 'bandpass', output = 'sos', fs = Fs)\n",
    "        pupil = signal.sosfiltfilt(sos, pupil, axis=0)\n",
    "    \n",
    "    pupil = pupil[1000:-800,:]\n",
    "    \n",
    "    pupil = StandardScaler(with_std=False).fit_transform(pupil)\n",
    "\n",
    "    return pupil"
   ]
  },
  {
   "cell_type": "code",
   "execution_count": 5,
   "id": "ee4fa8b6",
   "metadata": {},
   "outputs": [],
   "source": [
    "def load_brain(subj,modality='jrgeco',filt=True):\n",
    "    data_dict = mat73.loadmat(data_dir + '/' + str(subj) + '_' + modality + '.mat')\n",
    "    brain = data_dict['data'][:,mask_long]\n",
    "\n",
    "    if filt:\n",
    "        Fs = 20\n",
    "        dt = 1/Fs\n",
    "        sos = signal.butter(1, [.01,.2],btype = 'bandpass', output = 'sos', fs = Fs)\n",
    "        brain = signal.sosfiltfilt(sos, brain, axis=0)\n",
    "        \n",
    "    brain = brain[1000:-800,:]\n",
    "    \n",
    "    brain = StandardScaler(with_std=False).fit_transform(brain)\n",
    "\n",
    "    return brain"
   ]
  },
  {
   "cell_type": "code",
   "execution_count": 6,
   "id": "6e6523a3",
   "metadata": {},
   "outputs": [],
   "source": [
    "data_dir = '/home/ryanr/widefield'\n",
    "outdir = '/home/ryanr/Allen/arousal_final/model_predictions'\n",
    "figdir = '/home/ryanr/Allen/arousal_final/figs'\n",
    "mask = io.loadmat(data_dir+'/newmask.mat')\n",
    "mask = mask[\"newmask\"]\n",
    "mask.dtype = bool\n",
    "mask_long = mask.reshape(16384,order='F')\n",
    "allen_ccf = mat73.loadmat(data_dir + '/allen_ccf_overlay.mat')['allen_ccf']"
   ]
  },
  {
   "cell_type": "code",
   "execution_count": 7,
   "id": "68617300",
   "metadata": {},
   "outputs": [],
   "source": [
    "from numpy.random import seed\n",
    "seed(1)"
   ]
  },
  {
   "cell_type": "markdown",
   "id": "87b6422c",
   "metadata": {},
   "source": [
    "# Analysis"
   ]
  },
  {
   "cell_type": "code",
   "execution_count": 8,
   "id": "bcb4f17a",
   "metadata": {},
   "outputs": [],
   "source": [
    "## Set modeling parameters\n",
    "\n",
    "subjects = [4,5,6,7,8,9,10]\n",
    "delay = 1 # implement delay embedding? 0 or 1\n",
    "nonlinear = 1 # use nonlinear mappings (VAE) (as opposed to linear regression) ? 0 or 1\n",
    "Fs = 20 # sampling frequency\n",
    "dt = 1/Fs\n",
    "stackmax = 100 # Hankel row dimension (i.e., number of time shifts)\n",
    "spacing = 3 # number of samples separating each row\n",
    "r = 10 # number of modes of the Hankel matrix to keep (used for projection onto top r Legendre polynomials)\n",
    "z_n = 4 # number of latent dimensions used for VAE\n",
    "num_epochs = 200 # number of training epochs\n",
    "lr = .001 # learning rate\n",
    "beta = .1 # beta weight for KL loss in VAE training\n",
    "anneal_step = 2000 # determines rate at which KL loss is increased during training\n",
    "pretrained_enc = [] # pretrained encoder"
   ]
  },
  {
   "cell_type": "code",
   "execution_count": 9,
   "id": "00a35cee",
   "metadata": {},
   "outputs": [
    {
     "name": "stdout",
     "output_type": "stream",
     "text": [
      "Elapsed time is 8.31528615951538 seconds.\n",
      "Elapsed time is 8.676857233047485 seconds.\n",
      "Elapsed time is 8.527291297912598 seconds.\n",
      "Elapsed time is 8.55003833770752 seconds.\n",
      "Elapsed time is 8.649485349655151 seconds.\n",
      "Elapsed time is 8.774532079696655 seconds.\n",
      "Elapsed time is 8.454079866409302 seconds.\n"
     ]
    }
   ],
   "source": [
    "## Create group files\n",
    "\n",
    "xtrains = []\n",
    "pupils = []\n",
    "ytrains = []\n",
    "yscales = []\n",
    "lags = []\n",
    "\n",
    "modality='jrgeco'\n",
    "\n",
    "for s in range(len(subjects)):\n",
    "    \n",
    "    tic()\n",
    "    \n",
    "    subj = subjects[s]\n",
    "    \n",
    "    # Load data\n",
    "    pupil = load_pupil(subj)\n",
    "    brain = load_brain(subj,modality)\n",
    "    \n",
    "    # Compute lags for later\n",
    "    lag_range = 5 # range over which to look for optimal lag between pupil and brain cross-correlation (in seconds)\n",
    "    lag_range = int(lag_range/dt)\n",
    "    lag,_,_ = find_opt_lag(pupil,np.mean(brain,axis=1),lag_range)\n",
    "    lags.append(lag)\n",
    "          \n",
    "    ## Time delay embedding\n",
    "    polys = legendre_polys(r, stackmax)\n",
    "    Hp = hankel_matrix(pupil.T,stackmax,spacing)\n",
    "    xtrain = Hp.T@polys\n",
    "    xtrain = np.concatenate((xtrain,Hp.T[:,-1:]),axis=1)\n",
    "    ytrain = brain[spacing*(stackmax-1):,:]\n",
    "        \n",
    "    xtrain,_ = scaler(xtrain)\n",
    "    ytrain, scale_y = scaler(ytrain)\n",
    "    \n",
    "    xtrains.append(xtrain)\n",
    "    ytrains.append(ytrain)\n",
    "    yscales.append(scale_y)\n",
    "    \n",
    "    toc()\n"
   ]
  },
  {
   "cell_type": "code",
   "execution_count": 10,
   "id": "90a73bdf",
   "metadata": {},
   "outputs": [
    {
     "name": "stderr",
     "output_type": "stream",
     "text": [
      "2025-01-05 16:49:00.132304: I tensorflow/core/platform/cpu_feature_guard.cc:193] This TensorFlow binary is optimized with oneAPI Deep Neural Network Library (oneDNN) to use the following CPU instructions in performance-critical operations:  AVX2 AVX512F FMA\n",
      "To enable them in other operations, rebuild TensorFlow with the appropriate compiler flags.\n",
      "2025-01-05 16:49:02.026414: I tensorflow/core/common_runtime/gpu/gpu_device.cc:1616] Created device /job:localhost/replica:0/task:0/device:GPU:0 with 9627 MB memory:  -> device: 0, name: NVIDIA GeForce RTX 2080 Ti, pci bus id: 0000:19:00.0, compute capability: 7.5\n",
      "2025-01-05 16:49:02.027175: I tensorflow/core/common_runtime/gpu/gpu_device.cc:1616] Created device /job:localhost/replica:0/task:0/device:GPU:1 with 9627 MB memory:  -> device: 1, name: NVIDIA GeForce RTX 2080 Ti, pci bus id: 0000:1a:00.0, compute capability: 7.5\n",
      "2025-01-05 16:49:02.027759: I tensorflow/core/common_runtime/gpu/gpu_device.cc:1616] Created device /job:localhost/replica:0/task:0/device:GPU:2 with 9627 MB memory:  -> device: 2, name: NVIDIA GeForce RTX 2080 Ti, pci bus id: 0000:67:00.0, compute capability: 7.5\n",
      "2025-01-05 16:49:02.028380: I tensorflow/core/common_runtime/gpu/gpu_device.cc:1616] Created device /job:localhost/replica:0/task:0/device:GPU:3 with 9563 MB memory:  -> device: 3, name: NVIDIA GeForce RTX 2080 Ti, pci bus id: 0000:68:00.0, compute capability: 7.5\n"
     ]
    },
    {
     "name": "stdout",
     "output_type": "stream",
     "text": [
      "Fold 0 iter 1/7\n",
      "Fold 0 iter 2/7\n",
      "Fold 0 iter 3/7\n",
      "Fold 0 iter 4/7\n",
      "Fold 0 iter 5/7\n",
      "Fold 0 iter 6/7\n",
      "Fold 0 iter 7/7\n",
      "Elapsed time is 91.28619122505188 seconds.\n",
      "Fold 1 iter 1/7\n",
      "Fold 1 iter 2/7\n",
      "Fold 1 iter 3/7\n",
      "Fold 1 iter 4/7\n",
      "Fold 1 iter 5/7\n",
      "Fold 1 iter 6/7\n",
      "Fold 1 iter 7/7\n",
      "Elapsed time is 87.79693412780762 seconds.\n",
      "Fold 2 iter 1/7\n",
      "Fold 2 iter 2/7\n",
      "Fold 2 iter 3/7\n",
      "Fold 2 iter 4/7\n",
      "Fold 2 iter 5/7\n",
      "Fold 2 iter 6/7\n",
      "Fold 2 iter 7/7\n",
      "Elapsed time is 88.44853901863098 seconds.\n",
      "Fold 3 iter 1/7\n",
      "Fold 3 iter 2/7\n",
      "Fold 3 iter 3/7\n",
      "Fold 3 iter 4/7\n",
      "Fold 3 iter 5/7\n",
      "Fold 3 iter 6/7\n",
      "Fold 3 iter 7/7\n",
      "Elapsed time is 87.74692463874817 seconds.\n",
      "Fold 4 iter 1/7\n",
      "Fold 4 iter 2/7\n",
      "Fold 4 iter 3/7\n",
      "Fold 4 iter 4/7\n",
      "Fold 4 iter 5/7\n",
      "Fold 4 iter 6/7\n",
      "Fold 4 iter 7/7\n",
      "Elapsed time is 88.48730707168579 seconds.\n",
      "Fold 5 iter 1/7\n",
      "Fold 5 iter 2/7\n",
      "Fold 5 iter 3/7\n",
      "Fold 5 iter 4/7\n",
      "Fold 5 iter 5/7\n",
      "Fold 5 iter 6/7\n",
      "Fold 5 iter 7/7\n",
      "Elapsed time is 88.4955747127533 seconds.\n",
      "Fold 6 iter 1/7\n",
      "Fold 6 iter 2/7\n",
      "Fold 6 iter 3/7\n",
      "Fold 6 iter 4/7\n",
      "Fold 6 iter 5/7\n",
      "Fold 6 iter 6/7\n",
      "Fold 6 iter 7/7\n",
      "Elapsed time is 88.28920292854309 seconds.\n"
     ]
    }
   ],
   "source": [
    "# Leave-one-out crossval\n",
    "\n",
    "num_PCs = 10\n",
    "modality = 'jrgeco'\n",
    "\n",
    "num_shuffles = len(subjects)\n",
    "null_scores = np.zeros((num_shuffles,len(subjects)))\n",
    "\n",
    "for s in range(len(subjects)):\n",
    "    \n",
    "    tic()\n",
    "    \n",
    "    # Apply the median lag adjustment to all mice\n",
    "    lag = int(np.median(lags[:s] + lags[s+1:]))\n",
    "\n",
    "    xtrains_aligned = xtrains.copy()\n",
    "    ytrains_aligned = ytrains.copy()\n",
    "\n",
    "    for ss in range(len(xtrains)):\n",
    "        xtrains_aligned[ss] = xtrains_aligned[ss][lag:,:]\n",
    "        ytrains_aligned[ss] = ytrains_aligned[ss][:-lag,:]\n",
    "\n",
    "    train_x = np.concatenate(xtrains_aligned[:s] + xtrains_aligned[s+1:], axis=0)\n",
    "    train_y = np.concatenate(ytrains_aligned[:s] + ytrains_aligned[s+1:], axis=0)\n",
    "\n",
    "    test_x = xtrains_aligned[s]\n",
    "\n",
    "    # Project to top group PCs for efficient training\n",
    "    u,sigma,vh = rsvd(train_y, n_components=num_PCs)\n",
    "\n",
    "    train_y = train_y@vh.T[:,:num_PCs]\n",
    "    \n",
    "    # Preprocessing\n",
    "    train_x_sc, scale_x = scaler(train_x)\n",
    "    train_y_sc, scale_y = scaler(train_y)\n",
    "    \n",
    "    # Train model\n",
    "    r_squared, model, encoder, decoder = VAE(train_x_sc, train_y_sc, latent_dim=z_n, beta=beta,\n",
    "                                            num_epochs=num_epochs, anneal_step=anneal_step, lr=lr, verbose=False)\n",
    "    \n",
    "    test_y = load_brain(subjects[s])[spacing*(stackmax-1):,:][:-lag,:]\n",
    "    \n",
    "    for k in range(len(subjects)):\n",
    "        \n",
    "        print(f'Fold {s} iter {k+1}/{num_shuffles}')\n",
    "        \n",
    "        test_x = xtrains_aligned[k]\n",
    "\n",
    "        # Test model    \n",
    "        test_x_sc,_ = scaler(test_x, scale_x)\n",
    "\n",
    "        test_y_hat_sc = model.predict(test_x_sc)\n",
    "        test_y_hat = scale_y.inverse_transform(test_y_hat_sc)\n",
    "        test_y_hat = yscales[s].inverse_transform(test_y_hat@vh[:num_PCs,:]) # project back to brain space\n",
    "\n",
    "        null_scores[k,s] = r2_score(test_y,test_y_hat,multioutput='variance_weighted')\n",
    "        \n",
    "    toc()"
   ]
  },
  {
   "cell_type": "code",
   "execution_count": 11,
   "id": "72ad10d9",
   "metadata": {},
   "outputs": [
    {
     "data": {
      "image/png": "[encoded data removed]",
      "text/plain": [
       "<Figure size 800x600 with 1 Axes>"
      ]
     },
     "metadata": {},
     "output_type": "display_data"
    },
    {
     "data": {
      "text/plain": [
       "<Figure size 640x480 with 0 Axes>"
      ]
     },
     "metadata": {},
     "output_type": "display_data"
    }
   ],
   "source": [
    "line_colors = generate_color_gradient(len(subjects)+3,modality)\n",
    "\n",
    "fig, ax = plt.subplots(figsize=(8,6))\n",
    "\n",
    "for i in range(len(subjects)):\n",
    "    for j in range(len(subjects)):\n",
    "        if i==j:\n",
    "            plt.scatter(i, null_scores[i,j], 60, color=line_colors[i], label=f'Mouse {i+1}')\n",
    "        else:\n",
    "            plt.scatter(i, null_scores[i,j], 60, facecolors='none',edgecolors='k')\n",
    "\n",
    "ax.set_xticks([])\n",
    "#ax.set_ylim([-2,1])\n",
    "ax.set_ylabel('$R^2$', fontsize=20)\n",
    "\n",
    "plt.savefig(figdir + '/shuffle_LOO.pdf', dpi=300, transparent=True)\n",
    "\n",
    "plt.show()"
   ]
  }
 ],
 "metadata": {
  "kernelspec": {
   "display_name": "Python 3 (ipykernel)",
   "language": "python",
   "name": "python3"
  },
  "language_info": {
   "codemirror_mode": {
    "name": "ipython",
    "version": 3
   },
   "file_extension": ".py",
   "mimetype": "text/x-python",
   "name": "python",
   "nbconvert_exporter": "python",
   "pygments_lexer": "ipython3",
   "version": "3.8.10"
  },
  "vscode": {
   "interpreter": {
    "hash": "0ce48a12e99218915114f55eda2454fbb4ecdef58077c1f65b6fd0f614f2dc63"
   }
  }
 },
 "nbformat": 4,
 "nbformat_minor": 5
}
